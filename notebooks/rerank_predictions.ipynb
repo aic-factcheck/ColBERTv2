{
 "cells": [
  {
   "cell_type": "code",
   "execution_count": 2,
   "metadata": {},
   "outputs": [],
   "source": [
    "import numpy as np\n",
    "import torch\n",
    "from tqdm import tqdm\n",
    "import unicodedata\n",
    "\n",
    "from collections import defaultdict, OrderedDict, Counter\n",
    "from dataclasses import dataclass\n",
    "import datetime as dt\n",
    "from itertools import chain\n",
    "import os\n",
    "import pathlib\n",
    "from pathlib import Path\n",
    "import string\n",
    "import pandas as pd\n",
    "import unicodedata as ud\n",
    "from time import time\n",
    "from typing import Dict, Type, Callable, List\n",
    "import sys\n",
    "import ujson\n",
    "\n",
    "from sentence_transformers import CrossEncoder, util\n",
    "import textwrap\n",
    "\n",
    "from colbert.infra import Run, RunConfig, ColBERTConfig\n",
    "from colbert import Indexer, Searcher\n",
    "from colbert.data import Queries, Collection\n",
    "from colbert import Trainer\n",
    "\n",
    "sys.path.insert(0, '/home/drchajan/devel/python/FC/ColBERTv2') # ignore other ColBERT installations\n",
    "\n",
    "%load_ext autoreload\n",
    "%autoreload 2"
   ]
  },
  {
   "cell_type": "code",
   "execution_count": 3,
   "metadata": {},
   "outputs": [],
   "source": [
    "def _create_parent_dir(fname):\n",
    "    pdir = Path(fname).parent\n",
    "    pdir.mkdir(parents=True, exist_ok=True)\n",
    "\n",
    "def read_jsonl(jsonl):\n",
    "    with open(jsonl, 'r') as json_file:\n",
    "        data = []\n",
    "        for jline in json_file:\n",
    "            rec = ujson.loads(jline)\n",
    "            data.append(rec)\n",
    "    return data\n",
    "\n",
    "def write_jsonl(jsonl, data, mkdir=False):\n",
    "    if mkdir:\n",
    "        _create_parent_dir(jsonl)\n",
    "    # data is an iterable (list) of JSON-compatible structures (OrderedDict)\n",
    "    with open(jsonl, 'w', encoding='utf8') as json_file:\n",
    "        for r in data:\n",
    "            ujson.dump(r, json_file, ensure_ascii=False, default=str)\n",
    "            json_file.write(\"\\n\")\n",
    "            \n",
    "def read_json(fname):\n",
    "    with open(fname, 'r') as json_file:\n",
    "        data = ujson.load(json_file)\n",
    "    return data\n",
    "\n",
    "def write_json(fname, data, indent=3, mkdir=False):\n",
    "    if mkdir:\n",
    "        _create_parent_dir(json)\n",
    "    with open(str(fname), 'w', encoding='utf8') as json_file:\n",
    "        ujson.dump(data, json_file, ensure_ascii=False, indent=indent, default=str)\n",
    "\n",
    "def fever_detokenize(txt):\n",
    "    # updated detokenize, most models are not trained with this...\n",
    "    txt = txt.replace(\" .\", \".\").replace(\" ,\", \",\").replace(\" ?\", \"?\").replace(\" :\", \":\").replace(\" ;\", \";\")\n",
    "    txt = txt.replace(\"`` \", '\"').replace(\" ''\", '\"').replace(\" '\", \"'\")\n",
    "    txt = txt.replace(\"-LRB-\", \"(\").replace(\"-RRB-\", \")\")\n",
    "    txt = txt.replace(\"-LSB-\", \"/\").replace(\"-RSB-\", \"/\")\n",
    "    txt = txt.replace(\"-COLON-\", \":\")\n",
    "    txt = txt.replace(\"( \", \"(\").replace(\" )\", \")\")\n",
    "    return txt"
   ]
  },
  {
   "cell_type": "code",
   "execution_count": 4,
   "metadata": {},
   "outputs": [],
   "source": [
    "LANG = \"en\"\n",
    "FEVER_CORPUS = \"/mnt/data/factcheck/fever/data-en-latest/enwiki.jsonl\"\n",
    "FEVER_ROOT = \"/mnt/data/factcheck/fever/data-en-lrev/fever-data\"\n",
    "FEVER_PREDICTIONS = \"/mnt/data/factcheck/fever/data-en-lrev/predictions\"\n",
    "COLBERT_ROOT = \"/mnt/data/factcheck/fever/data-en-lrev/colbertv2\"\n",
    "\n",
    "ANSERINI_ROOT = Path(COLBERT_ROOT, \"anserini_for_hard_negatives\")\n",
    "ANSERINI_COLLECTION = str(Path(ANSERINI_ROOT, \"collection\"))\n",
    "ANSERINI_INDEX = str(Path(ANSERINI_ROOT, \"index\"))\n",
    "ANSERINI_RETRIEVED = Path(ANSERINI_ROOT, \"retrieved\")"
   ]
  },
  {
   "cell_type": "code",
   "execution_count": 5,
   "metadata": {},
   "outputs": [],
   "source": [
    "corpus = read_jsonl(Path(COLBERT_ROOT, \"collection.jsonl\"))"
   ]
  },
  {
   "cell_type": "code",
   "execution_count": 6,
   "metadata": {},
   "outputs": [],
   "source": [
    "original_id2pid = read_json(Path(COLBERT_ROOT, \"original_id2pid.json\"))"
   ]
  },
  {
   "attachments": {},
   "cell_type": "markdown",
   "metadata": {},
   "source": [
    "We will use Anserini in the first stage to get hard negatives. "
   ]
  },
  {
   "cell_type": "code",
   "execution_count": 7,
   "metadata": {},
   "outputs": [],
   "source": [
    "id2txt = {doc[\"id\"]: doc[\"text\"] for doc in corpus}\n",
    "model = CrossEncoder('cross-encoder/ms-marco-MiniLM-L-6-v2', max_length=512)"
   ]
  },
  {
   "cell_type": "code",
   "execution_count": 12,
   "metadata": {},
   "outputs": [
    {
     "name": "stderr",
     "output_type": "stream",
     "text": [
      "100%|██████████| 6038180/6038180 [00:12<00:00, 487824.92it/s] \n"
     ]
    }
   ],
   "source": [
    "class EnFEVER_LREV_ID_Fixer:\n",
    "    '''Our snapshot of EnFEVER most likely does not exactly match the snapshot used by the authors of the FEVER paper. Some of the evidence documents are missing. It seems that most often they have only slightly different names differing in use of underscores (\"_\"). This class tries to match them. \n",
    "    '''\n",
    "    def __init__(self, corpus):\n",
    "        self.fixed_id2original_id = defaultdict(list)\n",
    "        for r in tqdm(corpus):\n",
    "            original_id = unicodedata.normalize(\"NFC\", r[\"id\"])\n",
    "            fixed_id = original_id.replace(\"_\", \"\")\n",
    "            self.fixed_id2original_id[fixed_id].append(original_id)\n",
    "\n",
    "    def fix(self, id_):\n",
    "        fixed_id = unicodedata.normalize(\"NFC\", id_).replace(\"_\", \"\")\n",
    "        if fixed_id not in self.fixed_id2original_id:\n",
    "            return id_\n",
    "        original_ids = self.fixed_id2original_id[fixed_id]\n",
    "        assert len(original_ids) == 1, f\"{id_} => {fixed_id} => {original_ids}\"\n",
    "        return original_ids[0]\n",
    "    \n",
    "enfever_lrev_id_fixer = EnFEVER_LREV_ID_Fixer(corpus)"
   ]
  },
  {
   "cell_type": "code",
   "execution_count": 13,
   "metadata": {},
   "outputs": [
    {
     "name": "stderr",
     "output_type": "stream",
     "text": [
      "  0%|          | 0/9999 [00:00<?, ?it/s]"
     ]
    },
    {
     "name": "stdout",
     "output_type": "stream",
     "text": [
      "['Fences_-LRB-film-RRB-', 'Hacksaw_Ridge', 'List_of_accolades_received_by_Bridge_of_Spies_-LRB-film-RRB-', 'Grease_-LRB-film-RRB-', 'Rogue_One', 'No_Country_for_Old_Men_-LRB-film-RRB-', 'List_of_accolades_received_by_The_Martian_-LRB-film-RRB-', 'The_Help_-LRB-film-RRB-', 'List_of_accolades_received_by_Room', 'List_of_accolades_received_by_The_Revenant_-LRB-2015_film-RRB-', 'List_of_accolades_received_by_Manchester_by_the_Sea_-LRB-film-RRB-', 'List_of_accolades_received_by_Fences_-LRB-film-RRB-', 'Manchester_by_the_Sea_-LRB-film-RRB-', 'List_of_accolades_received_by_Hell_or_High_Water', 'Deepwater_Horizon_-LRB-film-RRB-', 'List_of_accolades_received_by_Zero_Dark_Thirty', 'Hidden_Figures', 'Goodfellas', 'The_Hobbit-COLON-_The_Battle_of_the_Five_Armies', 'Gravity_-LRB-2013_film-RRB-', 'The_Big_Short_-LRB-film-RRB-', 'Anil_Kapoor', 'Psych_-LRB-season_1-RRB-', 'The_Call_-LRB-2013_film-RRB-', 'The_Godfather_Part_II', 'Traci_Lords_filmography', 'List_of_accolades_received_by_Suicide_Squad', 'The_Crossing_Guard', 'Nocturnal_Animals', 'Good_Will_Hunting', '13_Hours-COLON-_The_Secret_Soldiers_of_Benghazi', 'Goodbye_Lullaby', 'The_Evening_Star', 'Knock_You_Down', 'American_Sniper', \"Pirates_of_the_Caribbean-COLON-_Dead_Man's_Chest\", 'Teenage_Mutant_Ninja_Turtles_-LRB-2014_film-RRB-', 'Loving_-LRB-2016_film-RRB-', 'Unbreakable_-LRB-film-RRB-', 'Snow_White_and_the_Huntsman', 'The_Peanuts_Movie', 'The_Social_Network', 'List_of_accolades_received_by_Arrival', 'Brad_Pitt', 'Bridge_of_Spies_-LRB-film-RRB-', 'The_Howling_-LRB-film-RRB-', 'List_of_accolades_received_by_Her_-LRB-film-RRB-', 'RoboCop', 'Monster_House_-LRB-film-RRB-', '12_Years_a_Slave_-LRB-film-RRB-', \"List_of_awards_and_nominations_received_by_The_King's_Speech\", 'Saving_Mr._Banks', 'List_of_accolades_received_by_Hacksaw_Ridge', '9_-LRB-2009_animated_film-RRB-', 'Almost_Famous', 'Unbroken_-LRB-Demi_Lovato_album-RRB-', 'HIStory-COLON-_Past,_Present_and_Future,_Book_I', 'List_of_accolades_received_by_The_Dark_Knight', 'Obsessed_-LRB-2009_film-RRB-', 'My_Rosy_Life', 'American_Horror_Story-COLON-_Freak_Show', 'Vertigo_-LRB-film-RRB-', 'Bradley_Cooper', 'Superman_Returns', \"Winter's_Tale_-LRB-film-RRB-\", 'How_I_Met_Your_Mother', 'The_Conjuring', 'Peter_Dinklage', 'Memento_-LRB-film-RRB-', 'X-Men_-LRB-film_series-RRB-', 'Raaz_3D', 'Parks_and_Recreation_-LRB-season_2-RRB-', 'Pretty_Woman', 'Blue_Is_the_Warmest_Colour', 'The_Doom_Generation', 'Wolf_Creek_-LRB-film-RRB-', 'Parks_and_Recreation_-LRB-season_1-RRB-', 'Francis_Ford_Coppola', 'Feast_-LRB-2005_film-RRB-', 'Arjun_Sarja', 'Phillip_Borsos', 'The_Twilight_Saga-COLON-_New_Moon', 'Cape_Fear_-LRB-1991_film-RRB-', 'Jennifer_Aniston', 'Wolfenstein-COLON-_The_New_Order', 'Academy_Award_for_Best_Animated_Feature', 'Blood_Diamond', 'Rebirth_-LRB-Jennifer_Lopez_album-RRB-', 'Beyond_Blunderdome', '7_Khoon_Maaf', 'The_Martian_-LRB-film-RRB-', 'Saga_-LRB-comic_book-RRB-', 'Legally_Blonde_-LRB-musical-RRB-', 'Simha_-LRB-film-RRB-', 'La_La_Land_-LRB-film-RRB-', 'Avengers-COLON-_Age_of_Ultron', 'List_of_accolades_received_by_Mary_Kom_-LRB-film-RRB-', 'Nightcrawler_-LRB-film-RRB-', 'Super_-LRB-2010_American_film-RRB-', 'The_Graduate', 'Reds_-LRB-film-RRB-', 'Lost_in_Translation_-LRB-film-RRB-', 'Girl_-LRB-Pharrell_Williams_album-RRB-', 'Quiz_Show_-LRB-film-RRB-', 'Queen_-LRB-2014_film-RRB-', 'Critics_Adult_Film_Association', 'Mirror_Mirror_-LRB-film-RRB-', 'Andaaz', 'Stardust_-LRB-2007_film-RRB-', 'The_Sum_of_All_Fears_-LRB-film-RRB-', 'Lena_Headey', 'Salt_-LRB-2010_film-RRB-', 'Black_Mass_-LRB-film-RRB-', 'American_Pie_-LRB-film_series-RRB-', 'Nightswimming_-LRB-Awake-RRB-', 'True_Detective_-LRB-season_1-RRB-', 'Christopher_Nolan', 'Boston_Society_of_Film_Critics', 'The_Darjeeling_Limited', 'All_I_Have_-LRB-album-RRB-', 'J._Cole', 'My_Big_Fat_Greek_Wedding', 'Star_Trek-COLON-_Nemesis', 'Fantastic_Beasts_and_Where_to_Find_Them_-LRB-film-RRB-', 'Dayyan_Eng', 'Resident_Evil-COLON-_The_Final_Chapter', 'U2_3D', 'Power_-LRB-Kanye_West_song-RRB-', 'In_the_Electric_Mist', 'We_Are_Never_Ever_Getting_Back_Together', 'The_Pirates!_In_an_Adventure_with_Scientists!', 'The_Wild', 'Rudraveena_-LRB-film-RRB-', '42_-LRB-film-RRB-', 'Gold_Diggers_of_Broadway', 'Shikkar', 'Mad_Max_-LRB-franchise-RRB-', 'RoboCop_-LRB-2014_film-RRB-', 'Barbershop_-LRB-film_series-RRB-', 'I_Am_Number_Four_-LRB-film-RRB-', 'Grease', 'The_Artist_-LRB-film-RRB-', 'Back_to_the_Future_Part_II', 'The_Red_Violin', \"We_Can't_Stop\", 'Gossip_-LRB-The_Office-RRB-', 'Danish_television_drama', 'Black_Sheep_-LRB-2006_New_Zealand_film-RRB-', 'Total_Recall_-LRB-2012_film-RRB-', 'LCD_Soundsystem_discography', 'The_Girl_on_the_Train_-LRB-2016_film-RRB-', 'Extremely_Loud_&_Incredibly_Close_-LRB-film-RRB-', 'To_Kill_a_Mockingbird_-LRB-film-RRB-', \"My_Best_Friend's_Wedding\", 'Nanny_McPhee_and_the_Big_Bang', 'Talk_Dirty_-LRB-album-RRB-', 'Underworld_-LRB-2003_film-RRB-', 'Entourage_-LRB-film-RRB-', 'Como_Ama_una_Mujer', 'Ice_Age-COLON-_Collision_Course', 'Tina_in_the_Sky_with_Diamonds', \"Don't_Breathe\", 'Jean-Marc_Vallée', '2009_Metro_Manila_Film_Festival', 'Aliens_-LRB-film-RRB-', 'Peter_Mullan', 'Divergent_-LRB-film-RRB-', 'Mankatha', 'Margaret_-LRB-2011_film-RRB-', 'Mike_Judge', 'Shepherd_Moons', 'Bangalore_Days', 'Miley-COLON-_The_Movement', 'Café_Society_-LRB-film-RRB-', 'Inkheart_-LRB-film-RRB-', 'The_Hunt_for_Red_October_-LRB-film-RRB-', 'Little_Nicholas', 'The_British_Invasion_-LRB-Dexter-RRB-', 'Raaz-COLON-_The_Mystery_Continues', 'Bad_Santa_2', 'Pilot_-LRB-Desperate_Housewives-RRB-', 'Siren_Song_of_the_Counter_Culture', 'War_Dogs_-LRB-2016_film-RRB-', 'The_Wedding_Night', 'Boo!_A_Madea_Halloween', 'Friday_the_13th_-LRB-1980_film-RRB-', 'Hedwig_and_the_Angry_Inch_-LRB-film-RRB-', 'Lovely_-LRB-Desperate_Housewives-RRB-', 'King_Kong_-LRB-2005_film-RRB-', \"Amy's_Choice_-LRB-Doctor_Who-RRB-\", 'Mythri_-LRB-2015_film-RRB-', 'Love,_Love,_Love_-LRB-Glee-RRB-', 'Under_the_Tree_-LRB-film-RRB-', 'An_Officer_and_a_Gentleman', 'Rock_of_Ages_-LRB-2012_film-RRB-', 'The_Monuments_Men', 'Dracula_Untold', 'Midnight_in_Paris', \"Quagmire's_Dad\", 'Her_-LRB-film-RRB-', 'The_Secret_Life_of_the_American_Teenager', 'Tamannaah', 'Rushmore_-LRB-film-RRB-', 'Pavor_Nocturnus', 'The_Insider_-LRB-film-RRB-', 'Say_Hello_to_My_Little_Friend', 'Rafael_Dyll', 'Ghost_in_the_Shell_-LRB-2017_film-RRB-', 'Andrea_-LRB-The_Walking_Dead-RRB-', 'Escape_from_New_York', 'List_of_accolades_received_by_Inception', 'Company_-LRB-film-RRB-', 'Love_the_Coopers', \"Don't_Hold_Your_Breath\", 'The_Shallows_-LRB-film-RRB-', '86th_Academy_Awards', 'A_Tale_of_Two_Sisters', 'Satya_-LRB-film-RRB-', 'Teen_Titans_-LRB-season_1-RRB-', 'The_Little_Guy', 'Buy,_Buy_Baby', 'A.K.A._-LRB-album-RRB-', \"Nobody's_Daughter\", 'The_Black_Parade', 'How_About_a_Friendly_Shrink?', 'Christine_Goutiere_Weston', 'Blackhat_-LRB-film-RRB-', 'Reign_of_Fire_-LRB-film-RRB-', 'Spooks-COLON-_The_Greater_Good', 'Shutter_Island_-LRB-film-RRB-', 'List_of_American_films_of_1951', 'Hitman-COLON-_Agent_47', 'Smash_-LRB-The_Offspring_album-RRB-', \"Wishin'_and_Hopin'_-LRB-Grey's_Anatomy-RRB-\", 'Thor-COLON-_God_of_Thunder', \"Singin'_in_the_Rain\", 'Special_Education_-LRB-Glee-RRB-', 'Yolka_-LRB-singer-RRB-', 'Right_Round', 'Future_Husband', 'Body_Party', \"Thought_'Ya_Knew\", 'All_for_You_-LRB-Janet_Jackson_song-RRB-', 'American_Horror_Story-COLON-_Coven', 'Scooby-Doo_2-COLON-_Monsters_Unleashed', 'Volcano_-LRB-South_Park-RRB-', 'Rave_Un2_the_Joy_Fantastic', 'Crash_Nitro_Kart', 'Noah_-LRB-2014_film-RRB-', 'The_Shape_of_Things_to_Come_-LRB-Lost-RRB-', 'Headlines_-LRB-Friendship_Never_Ends-RRB-', 'Inferno_-LRB-2016_film-RRB-', 'Savaari', 'Moonlight_-LRB-TV_series-RRB-', '85th_Academy_Awards', '25th_Hour', 'William_Wyler', 'Dial_Meg_for_Murder', 'Wench_Trouble', '47_Ronin_-LRB-2013_film-RRB-', 'The_Way_He_Looks', 'Meet_Dave', 'Brian_&_Stewie', 'Super_Mario_64_DS', 'Black_Hawk_Down_-LRB-film-RRB-', 'Performance_Review', 'United_in_Isolation', 'The_Last_Picture_Show', 'Sleepless_-LRB-2017_film-RRB-', 'The_Red_Shoes_-LRB-1948_film-RRB-', '007-COLON-_The_World_Is_Not_Enough_-LRB-Nintendo_64-RRB-', 'Dead_Celebrities', 'The_Cookbook', 'Paranormal_Activity_-LRB-film_series-RRB-', 'Pilot_-LRB-Sit_Down,_Shut_Up-RRB-', 'Boys_Do_Cry', 'Pilot_-LRB-Smash-RRB-', 'Man-Thing_-LRB-film-RRB-', 'Basic_Instinct', 'The_Searchers', 'Heavy_Metal_and_Reflective', 'The_Long_Game', 'G-Force_-LRB-film-RRB-', 'XXx-COLON-_Return_of_Xander_Cage', 'Thriller_-LRB-song-RRB-', 'Pee_-LRB-South_Park-RRB-', 'The_Light_Between_Oceans_-LRB-film-RRB-', 'Ian_Holding', '2nd_Academy_Awards', 'The_Good_German', 'Live_Show', \"The_Muppets'_Wizard_of_Oz\", \"Childhood's_End\", 'The_Watch_-LRB-2012_film-RRB-', \"National_Lampoon's_Vacation\", 'Stephen_Woolley', 'Golden_Powers', 'Evol_-LRB-Future_album-RRB-', 'Vinnaithaandi_Varuvaayaa', 'The_Tale_of_Scrotie_McBoogerballs', 'All_That_-LRB-season_3-RRB-', 'About_a_Boy_-LRB-film-RRB-', 'Freaky_Friday_-LRB-2003_film-RRB-', 'Her_Majesty_-LRB-film-RRB-', 'The_Raven_-LRB-2012_film-RRB-', 'Let_Go_-LRB-Avril_Lavigne_album-RRB-', 'Earthling_-LRB-Fringe-RRB-', 'True_Grit_-LRB-2010_film-RRB-', 'Army_of_Darkness', 'Land_of_the_Lost_-LRB-film-RRB-', '1st_Academy_Awards', 'Breaking_Away', 'Yogi_Bear_-LRB-film-RRB-', 'Shirdi_Sai', 'Easy_A', 'Tapwave_Zodiac', 'Baahubali_2-COLON-_The_Conclusion', \"Do_Somethin'\", 'Torches_-LRB-album-RRB-', \"Mike_D'Angelo\", \"Nick_&_Norah's_Infinite_Playlist\", 'The_High_and_the_Mighty_-LRB-film-RRB-', 'Crash-COLON-_Mind_over_Mutant', 'Celluloid_-LRB-film-RRB-', 'Confessions_of_a_Dangerous_Mind', 'The_Great_Wall_-LRB-film-RRB-', 'Ridley_Scott', 'Fatal_Frame_-LRB-video_game-RRB-', 'Rajesh_Pillai', 'Blood_Drive_-LRB-The_Office-RRB-', 'Apocalypse_Now', 'The_Passion_-LRB-U.S.-RRB-', 'Manam_-LRB-film-RRB-', 'Zagat', 'The_Secret_Life_of_Pets', 'The_Silence_of_the_Lambs_-LRB-film-RRB-', '80th_Academy_Awards', 'Bill_-LRB-2015_film-RRB-', 'Elektra_-LRB-2005_film-RRB-', 'Money_Monster', \"The_Huntsman-COLON-_Winter's_War\", 'Aaliyah_-LRB-album-RRB-', '23_-LRB-song-RRB-', 'The_Informant!', 'The_Bye_Bye_Man', 'The_Quiet_American_-LRB-2002_film-RRB-', \"Bixby's_Back\", 'The_Man_from_U.N.C.L.E._-LRB-film-RRB-', \"True_Colors_-LRB-Grey's_Anatomy-RRB-\", 'Nastradamus', \"Great_Expectations_-LRB-Grey's_Anatomy-RRB-\", 'Central_Intelligence', 'Ed,_Edd_n_Eddy_-LRB-season_2-RRB-', 'What_a_Girl_Wants_-LRB-film-RRB-', 'Original_Media', 'Runner_Runner', 'Down_to_Earth_-LRB-2001_film-RRB-', 'Hope_Springs_-LRB-2012_film-RRB-', '47th_British_Academy_Film_Awards', 'Review_aggregator', 'Lara_Croft_Tomb_Raider-COLON-_The_Cradle_of_Life', 'Beauty_and_the_Beast_-LRB-2017_film-RRB-', 'Pumpkinhead_-LRB-film_series-RRB-', '30_Rock_-LRB-season_1-RRB-', '68th_Academy_Awards', '13_Reasons_Why', 'First_Blood', '87th_Academy_Awards', 'Born_in_the_U.S.A.', 'Big_Man_on_Hippocampus', '83rd_Academy_Awards', 'Singam_-LRB-film_series-RRB-', 'IPad_-LRB-2017-RRB-', 'Prince_Family_Paper', '89th_Academy_Awards', '36th_Academy_Awards', 'The_Reporter_-LRB-Parks_and_Recreation-RRB-', 'Surrogates', 'Nerve_-LRB-2016_film-RRB-', 'Dark_Water_-LRB-2005_film-RRB-', 'The_Circle_-LRB-2017_film-RRB-', '76th_Academy_Awards', \"Assassin's_Creed_-LRB-film-RRB-\", 'The_Majestic_-LRB-film-RRB-', '31st_Academy_Awards', 'Ben-Hur_-LRB-2016_film-RRB-', 'Bloom_-LRB-Beach_House_album-RRB-', 'The_Spiderwick_Chronicles_-LRB-film-RRB-', 'Sailor_Mouth', 'The_Dark_Horse_-LRB-2014_film-RRB-', 'G.U.Y.', 'Danny_DeVito', 'Before_I_Fall_-LRB-film-RRB-', 'The_Brothers_Grimm_-LRB-film-RRB-', 'Mike_Settle', 'Dejarte_de_Amar', 'Ed,_Edd_n_Eddy', 'Spy_Kids_2-COLON-_The_Island_of_Lost_Dreams', 'The_Curse_of_the_Black_Spot', 'John_Wick-COLON-_Chapter_2', 'Zoolander', '30th_Academy_Awards', 'For_Whom_the_Sleigh_Bell_Tolls', 'Led_Zeppelin_IV', 'The_Ox-Bow_Incident', \"Let's_Kill_Ward's_Wife\", 'Annie_-LRB-1982_film-RRB-', 'Acceptable_Loss_-LRB-Law_&_Order-COLON-_Special_Victims_Unit-RRB-', 'From_Elvis_in_Memphis', '88th_Academy_Awards', 'My_Left_Foot', 'Heart_Beat_-LRB-film-RRB-', 'The_Good,_the_Sad_and_the_Drugly', 'Ode_to_the_Bouncer', 'Hands_All_Over_-LRB-album-RRB-', 'Care_Bears-COLON-_Journey_to_Joke-a-lot', 'Big_Baby_D.R.A.M.', 'Nice_Is_Different_Than_Good', 'Clash_of_the_Titans_-LRB-2010_film-RRB-', 'The_Sitter', 'Except_Sometimes', 'The_Founder', \"Yana's_Friends\", 'Robert_Wise', 'Blazing_Saddles', 'Ed,_Edd_n_Eddy_-LRB-season_1-RRB-', 'Akiva_Goldsman', 'Gabriel_Ripstein', 'Veedu_-LRB-1988_film-RRB-', 'Hail_to_the_Thief', 'James_Rolfe', 'Golmaal-COLON-_Fun_Unlimited', 'Spooked_-LRB-The_Office-RRB-', 'The_Way_I_See_It', 'Crash_Bandicoot_2-COLON-_Cortex_Strikes_Back', 'The_Angry_Birds_Movie', 'Thankful_-LRB-Mary_Mary_album-RRB-', \"Daddy's_Home_-LRB-film-RRB-\", \"Movin'_Out_-LRB-Brian's_Song-RRB-\", 'Dr._Pomerantz', 'Haunted_-LRB-Beyoncé_song-RRB-', 'El_viaje_de_Copperpot', 'Behind_Enemy_Lines_-LRB-2001_film-RRB-', 'Major_Key_-LRB-album-RRB-', 'You_Make_Me_Want_to_Be_a_Man', 'The_F_Word_-LRB-South_Park-RRB-', 'Teen_Wolf_-LRB-2011_TV_series-RRB-', 'Dope_-LRB-2015_film-RRB-', 'Ki_-LRB-Devin_Townsend_Project_album-RRB-', 'Cold_Mountain_-LRB-film-RRB-', 'Mike_and_Dave_Need_Wedding_Dates', \"Miracle's_Are_Real\", 'Terrance_and_Phillip_in_Not_Without_My_Anus', 'Green_Room_-LRB-film-RRB-', 'Roadside_Romeo', '62nd_Academy_Awards', 'Mafia_II', 'Rugrats-COLON-_Search_for_Reptar', 'Train_Ride', 'Bart_the_Mother', \"Don't_Believe_the_Truth\", '79th_Academy_Awards', 'Three_Kings_-LRB-Family_Guy-RRB-', 'Being_Mary_Jane', 'Lena_Headey_filmography', 'Broken_Sword-COLON-_The_Angel_of_Death', 'W.T.F._-LRB-South_Park-RRB-', 'The_Last_Castle', 'Ultimate!', 'This_Means_War_-LRB-Attack_Attack!_album-RRB-', 'BBC_Television_Shakespeare', 'Naayak', 'Xanadu_-LRB-film-RRB-', 'Heckler_-LRB-film-RRB-', 'Bobby_Simha', 'Project_Almanac', \"Disney's_Animated_Storybook-COLON-_Mulan\", 'Sonic_Adventure', 'Thikka', '64th_Academy_Awards', 'We_Made_You', '61st_Academy_Awards', 'Britney-COLON-_For_the_Record', 'The_Jungle_Book_-LRB-1994_film-RRB-', \"Wolf's_Rain\", 'The_Purple_Piano_Project', 'Whitney_-LRB-film-RRB-', 'Bhale_Bhale_Magadivoy', 'Thirakkatha', 'A_Boy_Named_Charlie_Brown', 'The_Avengers_-LRB-1998_film-RRB-', 'The_Mansion_Family', '81st_Academy_Awards', 'Marvel_Super_Heroes_vs._Street_Fighter', \"She's_Gotta_Have_It\", 'Beyond_the_Sea_-LRB-film-RRB-', 'Once_Upon_a_Time_in_Mumbaai', 'Standing_by_Yourself', 'Total_Siyapaa', 'Meet_the_Ukippers']\n"
     ]
    },
    {
     "name": "stderr",
     "output_type": "stream",
     "text": [
      "\n"
     ]
    },
    {
     "ename": "KeyError",
     "evalue": "'Fences_-LRB-film-RRB-'",
     "output_type": "error",
     "traceback": [
      "\u001b[0;31m---------------------------------------------------------------------------\u001b[0m",
      "\u001b[0;31mKeyError\u001b[0m                                  Traceback (most recent call last)",
      "Cell \u001b[0;32mIn[13], line 18\u001b[0m\n\u001b[1;32m     15\u001b[0m         \u001b[39mbreak\u001b[39;00m\n\u001b[1;32m     17\u001b[0m \u001b[39m# rerank_predictions(corpus, \"/mnt/data/factcheck/fever/data-en-lrev/predictions/paper_test/colbert/enfever_lrev128/k500.jsonl\", None)\u001b[39;00m\n\u001b[0;32m---> 18\u001b[0m rerank_predictions(corpus, \u001b[39m\"\u001b[39;49m\u001b[39m/mnt/data/factcheck/fever/data-en-lrev/predictions/paper_test/seal/fever_mbart-large-cc25_en_XX+unsupervised6M_cp25000_with_titles_k500.jsonl\u001b[39;49m\u001b[39m\"\u001b[39;49m, \u001b[39mNone\u001b[39;49;00m)\n",
      "Cell \u001b[0;32mIn[13], line 9\u001b[0m, in \u001b[0;36mrerank_predictions\u001b[0;34m(corpus, in_prediction_jsonl, out_prediction_jsonl)\u001b[0m\n\u001b[1;32m      7\u001b[0m predictions \u001b[39m=\u001b[39m r[\u001b[39m\"\u001b[39m\u001b[39mpredicted_pages\u001b[39m\u001b[39m\"\u001b[39m]\n\u001b[1;32m      8\u001b[0m \u001b[39mprint\u001b[39m(r[\u001b[39m\"\u001b[39m\u001b[39mpredicted_pages\u001b[39m\u001b[39m\"\u001b[39m])\n\u001b[0;32m----> 9\u001b[0m docs \u001b[39m=\u001b[39m [id2txt[id_] \u001b[39mfor\u001b[39;00m id_ \u001b[39min\u001b[39;00m predictions]\n\u001b[1;32m     10\u001b[0m data \u001b[39m=\u001b[39m [(claim, doc) \u001b[39mfor\u001b[39;00m doc \u001b[39min\u001b[39;00m docs]\n\u001b[1;32m     11\u001b[0m scores \u001b[39m=\u001b[39m model\u001b[39m.\u001b[39mpredict(data)\n",
      "Cell \u001b[0;32mIn[13], line 9\u001b[0m, in \u001b[0;36m<listcomp>\u001b[0;34m(.0)\u001b[0m\n\u001b[1;32m      7\u001b[0m predictions \u001b[39m=\u001b[39m r[\u001b[39m\"\u001b[39m\u001b[39mpredicted_pages\u001b[39m\u001b[39m\"\u001b[39m]\n\u001b[1;32m      8\u001b[0m \u001b[39mprint\u001b[39m(r[\u001b[39m\"\u001b[39m\u001b[39mpredicted_pages\u001b[39m\u001b[39m\"\u001b[39m])\n\u001b[0;32m----> 9\u001b[0m docs \u001b[39m=\u001b[39m [id2txt[id_] \u001b[39mfor\u001b[39;00m id_ \u001b[39min\u001b[39;00m predictions]\n\u001b[1;32m     10\u001b[0m data \u001b[39m=\u001b[39m [(claim, doc) \u001b[39mfor\u001b[39;00m doc \u001b[39min\u001b[39;00m docs]\n\u001b[1;32m     11\u001b[0m scores \u001b[39m=\u001b[39m model\u001b[39m.\u001b[39mpredict(data)\n",
      "\u001b[0;31mKeyError\u001b[0m: 'Fences_-LRB-film-RRB-'"
     ]
    }
   ],
   "source": [
    "def rerank_predictions(corpus, in_prediction_jsonl, out_prediction_jsonl):\n",
    "    # id2txt = {doc[\"id\"]: doc[\"text\"] for doc in corpus}\n",
    "    # model = CrossEncoder('cross-encoder/ms-marco-MiniLM-L-6-v2', max_length=512)\n",
    "    in_preds = read_jsonl(in_prediction_jsonl) \n",
    "    for r in tqdm(in_preds):\n",
    "        claim = r[\"claim\"]\n",
    "        predictions = r[\"predicted_pages\"]\n",
    "        print(r[\"predicted_pages\"])\n",
    "        docs = [id2txt[id_] for id_ in predictions]\n",
    "        data = [(claim, doc) for doc in docs]\n",
    "        scores = model.predict(data)\n",
    "        idxs = np.argsort(scores, kind='stable')[::-1]\n",
    "        r[\"predicted_pages\"] = [predictions[idx] for idx in idxs]\n",
    "        print(r[\"predicted_pages\"])\n",
    "        break\n",
    "\n",
    "# rerank_predictions(corpus, \"/mnt/data/factcheck/fever/data-en-lrev/predictions/paper_test/colbert/enfever_lrev128/k500.jsonl\", None)\n",
    "rerank_predictions(corpus, \"/mnt/data/factcheck/fever/data-en-lrev/predictions/paper_test/seal/fever_mbart-large-cc25_en_XX+unsupervised6M_cp25000_with_titles_k500.jsonl\", None)"
   ]
  },
  {
   "cell_type": "code",
   "execution_count": 11,
   "metadata": {},
   "outputs": [
    {
     "data": {
      "text/plain": [
       "['Grease_-LRB-_lubricant_-RRB-',\n",
       " 'Grease_-LRB-_film_-RRB-',\n",
       " 'Grease_-LRB-_song_-RRB-',\n",
       " 'Grease_-LRB-_musical_-RRB-',\n",
       " 'Grease_-LRB-_video_game_-RRB-']"
      ]
     },
     "execution_count": 11,
     "metadata": {},
     "output_type": "execute_result"
    }
   ],
   "source": [
    "[v for v in id2txt.keys() if v.startswith('Grease_-LRB')]"
   ]
  },
  {
   "cell_type": "code",
   "execution_count": 7,
   "metadata": {},
   "outputs": [],
   "source": [
    "def read_fever_texts_from_sqlite_db(db_file, detokenize=True, detokenize_id=False, fix_tabs=False):\n",
    "    import sqlite3\n",
    "    # note that empty lines are possible, and we store them\n",
    "    doc2text = defaultdict(list)\n",
    "    with sqlite3.connect(db_file, detect_types=sqlite3.PARSE_DECLTYPES) as connection:\n",
    "        cursor = connection.cursor()\n",
    "        cursor.execute(f\"SELECT id, text FROM documents\")\n",
    "        for id_, txt in cursor.fetchall():\n",
    "            if detokenize:\n",
    "                if detokenize_id:\n",
    "                    id_ = fever_detokenize(id_)\n",
    "                txt = fever_detokenize(txt)\n",
    "            if fix_tabs:\n",
    "                txt = txt.replace(\"\\t\", \" \")\n",
    "            doc2text[id_].append(txt)\n",
    "        return doc2text\n",
    "\n",
    "\n",
    "# this is for debugging only, the text is reconstructed from lines to be alligned with training data\n",
    "# doc2text = read_fever_texts_from_sqlite_db(\"/mnt/data/factcheck/fever/data-en/fever/fever.db\", detokenize_id=True)\n",
    "doc2text = read_fever_texts_from_sqlite_db(\"/mnt/data/factcheck/fever/data-en-lrev/fever/fever.db\")"
   ]
  },
  {
   "cell_type": "code",
   "execution_count": 8,
   "metadata": {},
   "outputs": [
    {
     "data": {
      "text/plain": [
       "['Grease_-LRB-video_game-RRB-',\n",
       " 'Grease_-LRB-film-RRB-',\n",
       " 'Grease_-LRB-lubricant-RRB-',\n",
       " 'Grease_-LRB-song-RRB-',\n",
       " 'Grease_-LRB-musical-RRB-']"
      ]
     },
     "execution_count": 8,
     "metadata": {},
     "output_type": "execute_result"
    }
   ],
   "source": [
    "[v for v in doc2text.keys() if v.startswith('Grease_-LRB')]"
   ]
  },
  {
   "cell_type": "code",
   "execution_count": null,
   "metadata": {},
   "outputs": [],
   "source": []
  }
 ],
 "metadata": {
  "kernelspec": {
   "display_name": "colbert",
   "language": "python",
   "name": "colbert"
  },
  "language_info": {
   "codemirror_mode": {
    "name": "ipython",
    "version": 3
   },
   "file_extension": ".py",
   "mimetype": "text/x-python",
   "name": "python",
   "nbconvert_exporter": "python",
   "pygments_lexer": "ipython3",
   "version": "3.8.16"
  },
  "orig_nbformat": 4
 },
 "nbformat": 4,
 "nbformat_minor": 2
}
