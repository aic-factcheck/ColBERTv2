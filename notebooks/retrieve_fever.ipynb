{
 "cells": [
  {
   "cell_type": "code",
   "execution_count": 10,
   "metadata": {},
   "outputs": [
    {
     "name": "stdout",
     "output_type": "stream",
     "text": [
      "The autoreload extension is already loaded. To reload it, use:\n",
      "  %reload_ext autoreload\n"
     ]
    }
   ],
   "source": [
    "import numpy as np\n",
    "import torch\n",
    "\n",
    "from collections import defaultdict, OrderedDict, Counter\n",
    "from dataclasses import dataclass\n",
    "import datetime as dt\n",
    "from itertools import chain\n",
    "import os\n",
    "import pathlib\n",
    "from pathlib import Path\n",
    "import string\n",
    "import pandas as pd\n",
    "import unicodedata as ud\n",
    "from time import time\n",
    "from typing import Dict, Type, Callable, List\n",
    "import sys\n",
    "import json\n",
    "\n",
    "\n",
    "sys.path.insert(0, '/home/drchajan/devel/python/FC/ColBERTv2') # ignore other ColBERT installations\n",
    "\n",
    "%load_ext autoreload\n",
    "%autoreload 2\n",
    "\n",
    "from colbert.infra import Run, RunConfig, ColBERTConfig\n",
    "from colbert import Indexer, Searcher\n",
    "from colbert.data import Queries, Collection\n",
    "from colbert import Trainer"
   ]
  },
  {
   "cell_type": "code",
   "execution_count": 11,
   "metadata": {},
   "outputs": [],
   "source": [
    "def read_json(fname, object_pairs_hook=OrderedDict):\n",
    "    with open(fname, 'r') as json_file:\n",
    "        data = json.load(json_file, object_pairs_hook=object_pairs_hook)\n",
    "    return data\n",
    "\n",
    "def read_jsonl(jsonl):\n",
    "    with open(jsonl, 'r') as json_file:\n",
    "        data = []\n",
    "        for jline in json_file:\n",
    "            rec = json.loads(jline, object_pairs_hook=OrderedDict)\n",
    "            data.append(rec)\n",
    "    return data\n",
    "\n",
    "def write_jsonl(jsonl, data):\n",
    "    # data is an iterable (list) of JSON-compatible structures (OrderedDict)\n",
    "    with open(jsonl, 'w', encoding='utf8') as json_file:\n",
    "        for r in data:\n",
    "            json.dump(r, json_file, ensure_ascii=False, default=str)\n",
    "            json_file.write(\"\\n\")"
   ]
  },
  {
   "cell_type": "code",
   "execution_count": 12,
   "metadata": {},
   "outputs": [],
   "source": [
    "cfg = read_json(\"cfg/colbertv2_wiki_en_20230220_100k.json\")"
   ]
  },
  {
   "cell_type": "code",
   "execution_count": 13,
   "metadata": {},
   "outputs": [
    {
     "data": {
      "text/plain": [
       "OrderedDict([('index_name',\n",
       "              '/mnt/data/factcheck/wiki/en/20230220/colbertv2/indexes/enwiki-20230220-paragraphs-100k.2bits'),\n",
       "             ('lineno2id_mapping',\n",
       "              '/mnt/data/factcheck/wiki/en/20230220/paragraphs/enwiki-20230220-paragraphs-100k_lineno2id.json'),\n",
       "             ('port', 8050)])"
      ]
     },
     "execution_count": 13,
     "metadata": {},
     "output_type": "execute_result"
    }
   ],
   "source": [
    "cfg"
   ]
  },
  {
   "cell_type": "code",
   "execution_count": 6,
   "metadata": {},
   "outputs": [
    {
     "name": "stdout",
     "output_type": "stream",
     "text": [
      "[Mar 21, 15:12:09] #> Loading collection from JSONL...\n",
      "0M \n",
      "[Mar 21, 15:12:25] #> Loading codec...\n",
      "[Mar 21, 15:12:25] Loading decompress_residuals_cpp extension (set COLBERT_LOAD_TORCH_EXTENSION_VERBOSE=True for more info)...\n",
      "[Mar 21, 15:12:26] Loading packbits_cpp extension (set COLBERT_LOAD_TORCH_EXTENSION_VERBOSE=True for more info)...\n",
      "[Mar 21, 15:12:26] #> Loading IVF...\n",
      "[Mar 21, 15:12:26] #> Loading doclens...\n"
     ]
    },
    {
     "name": "stderr",
     "output_type": "stream",
     "text": [
      "100%|██████████| 4/4 [00:00<00:00, 731.54it/s]"
     ]
    },
    {
     "name": "stdout",
     "output_type": "stream",
     "text": [
      "[Mar 21, 15:12:26] #> Loading codes and residuals...\n"
     ]
    },
    {
     "name": "stderr",
     "output_type": "stream",
     "text": [
      "\n",
      "100%|██████████| 4/4 [00:00<00:00, 28.06it/s]\n"
     ]
    }
   ],
   "source": [
    "class ColBERTv2Retriever:\n",
    "    def __init__(self, cfg: dict):\n",
    "            with Run().context(RunConfig(experiment='REST api')):\n",
    "                self.searcher = Searcher(index=str(cfg[\"index_name\"]))\n",
    "            with open(cfg[\"lineno2id_mapping\"], \"r\") as f:\n",
    "                 self.lineno2id = ujson.load(f)\n",
    "                 self.lineno2id = {int(k): v for k, v in self.lineno2id.items()}\n",
    "                 assert len(self.lineno2id) == len(self.searcher.collection.data), f\"not maching collection size: {len(self.lineno2id)} != {len(self.searcher.collection.data)}\"\n",
    "\n",
    "    def retrieve(self, query: str, k: int):\n",
    "        results = self.searcher.search(query, k=k)\n",
    "        pids, ranks, scores = results\n",
    "        ids = [self.lineno2id[pid] for pid in pids]\n",
    "        return ids, scores\n",
    "    \n",
    "retriever = ColBERTv2Retriever(cfg)"
   ]
  },
  {
   "cell_type": "code",
   "execution_count": 14,
   "metadata": {},
   "outputs": [],
   "source": [
    "SPLIT = \"paper_test\"\n",
    "test_data = read_jsonl(f\"/mnt/data/factcheck/fever/data-en-lrev/fever-data/{SPLIT}.jsonl\")"
   ]
  },
  {
   "cell_type": "code",
   "execution_count": 15,
   "metadata": {},
   "outputs": [
    {
     "data": {
      "text/plain": [
       "OrderedDict([('id', 113501),\n",
       "             ('verifiable', 'NOT VERIFIABLE'),\n",
       "             ('label', 'NOT ENOUGH INFO'),\n",
       "             ('claim', 'Grease had bad reviews.'),\n",
       "             ('evidence', [[[133128, None, None, None]]])])"
      ]
     },
     "execution_count": 15,
     "metadata": {},
     "output_type": "execute_result"
    }
   ],
   "source": [
    "test_data[0]"
   ]
  },
  {
   "cell_type": "code",
   "execution_count": null,
   "metadata": {},
   "outputs": [],
   "source": []
  }
 ],
 "metadata": {
  "kernelspec": {
   "display_name": "colbert",
   "language": "python",
   "name": "colbert"
  },
  "language_info": {
   "codemirror_mode": {
    "name": "ipython",
    "version": 3
   },
   "file_extension": ".py",
   "mimetype": "text/x-python",
   "name": "python",
   "nbconvert_exporter": "python",
   "pygments_lexer": "ipython3",
   "version": "3.8.16"
  },
  "orig_nbformat": 4
 },
 "nbformat": 4,
 "nbformat_minor": 2
}
